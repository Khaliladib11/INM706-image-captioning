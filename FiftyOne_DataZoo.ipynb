{
 "cells": [
  {
   "cell_type": "markdown",
   "id": "4dec8a9a-4ef8-4eff-9da8-51f3ba00a7e0",
   "metadata": {},
   "source": [
    "# Demop of FiftyOne DataZoo\n",
    "\n",
    "See "
   ]
  },
  {
   "cell_type": "code",
   "execution_count": 1,
   "id": "ca2cc442-d003-442e-817d-7b6fff7851a9",
   "metadata": {},
   "outputs": [
    {
     "name": "stdout",
     "output_type": "stream",
     "text": [
      "Downloading split 'train' to '/Users/alexxcollins/fiftyone/coco-2017/train' if necessary\n",
      "Found annotations at '/Users/alexxcollins/fiftyone/coco-2017/raw/instances_train2017.json'\n",
      "Sufficient images already downloaded\n",
      "Existing download of split 'train' is sufficient\n",
      "Loading 'coco-2017' split 'train'\n"
     ]
    },
    {
     "ename": "ValueError",
     "evalue": "Failed to construct importer of type <class 'fiftyone.utils.coco.COCODetectionDatasetImporter'> using the provided parameters. See above for the error. You may need to supply additional mandatory arguments. Please consult the documentation of <class 'fiftyone.utils.coco.COCODetectionDatasetImporter'> to learn more",
     "output_type": "error",
     "traceback": [
      "\u001b[0;31m---------------------------------------------------------------------------\u001b[0m",
      "\u001b[0;31mValueError\u001b[0m                                Traceback (most recent call last)",
      "\u001b[0;32m~/miniforge3/envs/spyder-dev/lib/python3.9/site-packages/fiftyone/utils/data/importers.py\u001b[0m in \u001b[0;36mbuild_dataset_importer\u001b[0;34m(dataset_type, strip_none, warn_unused, name, **kwargs)\u001b[0m\n\u001b[1;32m    529\u001b[0m     \u001b[0;32mtry\u001b[0m\u001b[0;34m:\u001b[0m\u001b[0;34m\u001b[0m\u001b[0;34m\u001b[0m\u001b[0m\n\u001b[0;32m--> 530\u001b[0;31m         \u001b[0mdataset_importer\u001b[0m \u001b[0;34m=\u001b[0m \u001b[0mdataset_importer_cls\u001b[0m\u001b[0;34m(\u001b[0m\u001b[0;34m**\u001b[0m\u001b[0mkwargs\u001b[0m\u001b[0;34m)\u001b[0m\u001b[0;34m\u001b[0m\u001b[0;34m\u001b[0m\u001b[0m\n\u001b[0m\u001b[1;32m    531\u001b[0m     \u001b[0;32mexcept\u001b[0m \u001b[0mException\u001b[0m \u001b[0;32mas\u001b[0m \u001b[0me\u001b[0m\u001b[0;34m:\u001b[0m\u001b[0;34m\u001b[0m\u001b[0;34m\u001b[0m\u001b[0m\n",
      "\u001b[0;32m~/miniforge3/envs/spyder-dev/lib/python3.9/site-packages/fiftyone/utils/coco.py\u001b[0m in \u001b[0;36m__init__\u001b[0;34m(self, dataset_dir, data_path, labels_path, label_types, classes, image_ids, include_id, include_license, extra_attrs, only_matching, use_polylines, tolerance, shuffle, seed, max_samples)\u001b[0m\n\u001b[1;32m    361\u001b[0m \u001b[0;34m\u001b[0m\u001b[0m\n\u001b[0;32m--> 362\u001b[0;31m         \u001b[0m_label_types\u001b[0m \u001b[0;34m=\u001b[0m \u001b[0m_parse_label_types\u001b[0m\u001b[0;34m(\u001b[0m\u001b[0mlabel_types\u001b[0m\u001b[0;34m)\u001b[0m\u001b[0;34m\u001b[0m\u001b[0;34m\u001b[0m\u001b[0m\n\u001b[0m\u001b[1;32m    363\u001b[0m \u001b[0;34m\u001b[0m\u001b[0m\n",
      "\u001b[0;32m~/miniforge3/envs/spyder-dev/lib/python3.9/site-packages/fiftyone/utils/coco.py\u001b[0m in \u001b[0;36m_parse_label_types\u001b[0;34m(label_types)\u001b[0m\n\u001b[1;32m   1741\u001b[0m     \u001b[0;32mif\u001b[0m \u001b[0mlen\u001b[0m\u001b[0;34m(\u001b[0m\u001b[0mbad_types\u001b[0m\u001b[0;34m)\u001b[0m \u001b[0;34m==\u001b[0m \u001b[0;36m1\u001b[0m\u001b[0;34m:\u001b[0m\u001b[0;34m\u001b[0m\u001b[0;34m\u001b[0m\u001b[0m\n\u001b[0;32m-> 1742\u001b[0;31m         raise ValueError(\n\u001b[0m\u001b[1;32m   1743\u001b[0m             \u001b[0;34m\"Unsupported label type '%s'. Supported types are %s\"\u001b[0m\u001b[0;34m\u001b[0m\u001b[0;34m\u001b[0m\u001b[0m\n",
      "\u001b[0;31mValueError\u001b[0m: Unsupported label type 'captions'. Supported types are ['detections', 'segmentations', 'keypoints']",
      "\nThe above exception was the direct cause of the following exception:\n",
      "\u001b[0;31mValueError\u001b[0m                                Traceback (most recent call last)",
      "\u001b[0;32m/var/folders/gk/grt4hfz969ngc_pt206514740000gn/T/ipykernel_97597/3812728155.py\u001b[0m in \u001b[0;36m<module>\u001b[0;34m\u001b[0m\n\u001b[1;32m      3\u001b[0m \u001b[0;32mimport\u001b[0m \u001b[0mpycocotools\u001b[0m\u001b[0;34m\u001b[0m\u001b[0;34m\u001b[0m\u001b[0m\n\u001b[1;32m      4\u001b[0m \u001b[0;34m\u001b[0m\u001b[0m\n\u001b[0;32m----> 5\u001b[0;31m dataset = foz.load_zoo_dataset(\n\u001b[0m\u001b[1;32m      6\u001b[0m     \u001b[0;34m\"coco-2017\"\u001b[0m\u001b[0;34m,\u001b[0m\u001b[0;34m\u001b[0m\u001b[0;34m\u001b[0m\u001b[0m\n\u001b[1;32m      7\u001b[0m     \u001b[0msplit\u001b[0m\u001b[0;34m=\u001b[0m\u001b[0;34m\"train\"\u001b[0m\u001b[0;34m,\u001b[0m\u001b[0;34m\u001b[0m\u001b[0;34m\u001b[0m\u001b[0m\n",
      "\u001b[0;32m~/miniforge3/envs/spyder-dev/lib/python3.9/site-packages/fiftyone/zoo/datasets/__init__.py\u001b[0m in \u001b[0;36mload_zoo_dataset\u001b[0;34m(name, split, splits, label_field, dataset_name, dataset_dir, download_if_necessary, drop_existing_dataset, overwrite, cleanup, **kwargs)\u001b[0m\n\u001b[1;32m    277\u001b[0m             \u001b[0mlogger\u001b[0m\u001b[0;34m.\u001b[0m\u001b[0minfo\u001b[0m\u001b[0;34m(\u001b[0m\u001b[0;34m\"Loading '%s' split '%s'\"\u001b[0m\u001b[0;34m,\u001b[0m \u001b[0mzoo_dataset\u001b[0m\u001b[0;34m.\u001b[0m\u001b[0mname\u001b[0m\u001b[0;34m,\u001b[0m \u001b[0msplit\u001b[0m\u001b[0;34m)\u001b[0m\u001b[0;34m\u001b[0m\u001b[0;34m\u001b[0m\u001b[0m\n\u001b[1;32m    278\u001b[0m             \u001b[0msplit_dir\u001b[0m \u001b[0;34m=\u001b[0m \u001b[0mzoo_dataset\u001b[0m\u001b[0;34m.\u001b[0m\u001b[0mget_split_dir\u001b[0m\u001b[0;34m(\u001b[0m\u001b[0mdataset_dir\u001b[0m\u001b[0;34m,\u001b[0m \u001b[0msplit\u001b[0m\u001b[0;34m)\u001b[0m\u001b[0;34m\u001b[0m\u001b[0;34m\u001b[0m\u001b[0m\n\u001b[0;32m--> 279\u001b[0;31m             dataset_importer, _ = foud.build_dataset_importer(\n\u001b[0m\u001b[1;32m    280\u001b[0m                 \u001b[0mdataset_type\u001b[0m\u001b[0;34m,\u001b[0m \u001b[0mdataset_dir\u001b[0m\u001b[0;34m=\u001b[0m\u001b[0msplit_dir\u001b[0m\u001b[0;34m,\u001b[0m \u001b[0;34m**\u001b[0m\u001b[0mimporter_kwargs\u001b[0m\u001b[0;34m\u001b[0m\u001b[0;34m\u001b[0m\u001b[0m\n\u001b[1;32m    281\u001b[0m             )\n",
      "\u001b[0;32m~/miniforge3/envs/spyder-dev/lib/python3.9/site-packages/fiftyone/utils/data/importers.py\u001b[0m in \u001b[0;36mbuild_dataset_importer\u001b[0;34m(dataset_type, strip_none, warn_unused, name, **kwargs)\u001b[0m\n\u001b[1;32m    530\u001b[0m         \u001b[0mdataset_importer\u001b[0m \u001b[0;34m=\u001b[0m \u001b[0mdataset_importer_cls\u001b[0m\u001b[0;34m(\u001b[0m\u001b[0;34m**\u001b[0m\u001b[0mkwargs\u001b[0m\u001b[0;34m)\u001b[0m\u001b[0;34m\u001b[0m\u001b[0;34m\u001b[0m\u001b[0m\n\u001b[1;32m    531\u001b[0m     \u001b[0;32mexcept\u001b[0m \u001b[0mException\u001b[0m \u001b[0;32mas\u001b[0m \u001b[0me\u001b[0m\u001b[0;34m:\u001b[0m\u001b[0;34m\u001b[0m\u001b[0;34m\u001b[0m\u001b[0m\n\u001b[0;32m--> 532\u001b[0;31m         raise ValueError(\n\u001b[0m\u001b[1;32m    533\u001b[0m             \u001b[0;34m\"Failed to construct importer of type %s using the provided \"\u001b[0m\u001b[0;34m\u001b[0m\u001b[0;34m\u001b[0m\u001b[0m\n\u001b[1;32m    534\u001b[0m             \u001b[0;34m\"parameters. See above for the error. You may need to supply \"\u001b[0m\u001b[0;34m\u001b[0m\u001b[0;34m\u001b[0m\u001b[0m\n",
      "\u001b[0;31mValueError\u001b[0m: Failed to construct importer of type <class 'fiftyone.utils.coco.COCODetectionDatasetImporter'> using the provided parameters. See above for the error. You may need to supply additional mandatory arguments. Please consult the documentation of <class 'fiftyone.utils.coco.COCODetectionDatasetImporter'> to learn more"
     ]
    }
   ],
   "source": [
    "import fiftyone as fo\n",
    "import fiftyone.zoo as foz\n",
    "import pycocotools\n",
    "\n",
    "dataset = foz.load_zoo_dataset(\n",
    "    \"coco-2017\",\n",
    "    split=\"train\",\n",
    "    label_types=[\"captions\"],\n",
    "    classes=[\"skis\", \"snowboard\"],\n",
    "    max_samples=25,\n",
    ")\n",
    "\n",
    "session = fo.launch_app(dataset)\n",
    "\n",
    "type(dataset)\n",
    "\n",
    "print(dataset.info.keys())"
   ]
  },
  {
   "cell_type": "code",
   "execution_count": null,
   "id": "9dfe465c-eaca-49da-a153-cebb0b11d6d9",
   "metadata": {},
   "outputs": [],
   "source": []
  }
 ],
 "metadata": {
  "kernelspec": {
   "display_name": "Python 3 (ipykernel)",
   "language": "python",
   "name": "python3"
  },
  "language_info": {
   "codemirror_mode": {
    "name": "ipython",
    "version": 3
   },
   "file_extension": ".py",
   "mimetype": "text/x-python",
   "name": "python",
   "nbconvert_exporter": "python",
   "pygments_lexer": "ipython3",
   "version": "3.9.7"
  }
 },
 "nbformat": 4,
 "nbformat_minor": 5
}
