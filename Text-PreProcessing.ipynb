{
 "cells": [
  {
   "cell_type": "markdown",
   "id": "c28c381b-ae1b-4366-a106-09d9b98c8d2c",
   "metadata": {},
   "source": [
    "# We want to convert text -> numerical values"
   ]
  },
  {
   "cell_type": "markdown",
   "id": "c448825f-b66a-4de0-8e6f-4be76c09f8d8",
   "metadata": {},
   "source": [
    "The Goals are:\n",
    "* Create Vocabulary mapping each word to an index\n",
    "* We need to setup PyTorch dataset to load the data\n",
    "* Setup padding of every padding (all example should be of the same sequence length)"
   ]
  },
  {
   "cell_type": "code",
   "execution_count": 1,
   "id": "6a8fa2af-7479-4802-826d-49ddcad077bf",
   "metadata": {},
   "outputs": [],
   "source": [
    "import re\n",
    "import pathlib\n",
    "import numpy as np\n",
    "from pathlib import Path\n",
    "from MSCOCO import COCO\n",
    "\n",
    "from nltk.corpus import stopwords\n",
    "from nltk.tokenize import word_tokenize"
   ]
  },
  {
   "cell_type": "code",
   "execution_count": 2,
   "id": "176706c1",
   "metadata": {},
   "outputs": [],
   "source": [
    "root = Path('../../Datasets/MS COCO')\n",
    "imgs_path = root/'train2017'\n",
    "captions_path = root/'annotations_trainval2017'/'annotations'/'captions_train2017.json'"
   ]
  },
  {
   "cell_type": "code",
   "execution_count": 3,
   "id": "eac6a700",
   "metadata": {},
   "outputs": [],
   "source": [
    "coco = COCO(imgs_path, captions_path)"
   ]
  },
  {
   "cell_type": "code",
   "execution_count": 4,
   "id": "afe76c97",
   "metadata": {},
   "outputs": [
    {
     "data": {
      "text/plain": [
       "118287"
      ]
     },
     "execution_count": 4,
     "metadata": {},
     "output_type": "execute_result"
    }
   ],
   "source": [
    "len(coco.imgs)"
   ]
  },
  {
   "cell_type": "code",
   "execution_count": 6,
   "id": "5768197d",
   "metadata": {},
   "outputs": [
    {
     "data": {
      "text/plain": [
       "['Closeup of bins of food that include broccoli and bread.',\n",
       " 'A meal is presented in brightly colored plastic trays.',\n",
       " 'there are containers filled with different kinds of foods',\n",
       " 'Colorful dishes holding meat, vegetables, fruit, and bread.',\n",
       " 'A bunch of trays that have different food.']"
      ]
     },
     "execution_count": 6,
     "metadata": {},
     "output_type": "execute_result"
    }
   ],
   "source": [
    "coco.imgs_caps_dict['000000000009.jpg']"
   ]
  },
  {
   "cell_type": "code",
   "execution_count": null,
   "id": "02b4a32f",
   "metadata": {},
   "outputs": [],
   "source": [
    "coco.imgs_caps_dict"
   ]
  },
  {
   "cell_type": "code",
   "execution_count": null,
   "id": "4132ffcd",
   "metadata": {},
   "outputs": [],
   "source": [
    "class Vocabulary:\n",
    "    \n",
    "    # Constructor\n",
    "    def __init__(self, freq_threshold, stop_words):\n",
    "        \"\"\"\n",
    "        Constructor to create vocabulary of words and to tokenize them.\n",
    "        :param freq_threshold (int): if a word is not repeated enough don't add it to the dictionary\n",
    "        :param stop_words (list): to remove stopping words\n",
    "        \"\"\"\n",
    "        self.idx_to_string = {\n",
    "            0: '<PAD>', # to pad all the captions to be the same size\n",
    "            1: '<SOS>', # Start of sentence\n",
    "            2: '<EOS>', # End of sentence\n",
    "            3: '<UNK>', # Unknown Token\n",
    "        }\n",
    "        self.string_to_index = {\n",
    "            '<PAD>': 0,\n",
    "            '<SOS>': 1,\n",
    "            '<EOS>': 2,\n",
    "            '<UNK>': 3,\n",
    "        }\n",
    "        self.freq_threshold = freq_threshold\n",
    "        \n",
    "        \n",
    "    # return the length of the vocabulary\n",
    "    def __len__(self):\n",
    "        return len(self.idx_to_string)\n",
    "    \n",
    "    # static method we can use it without create an instance from the class\n",
    "    # tokenize a pieace of text\n",
    "    @staticmethod\n",
    "    def tokenizer_eng(text):\n",
    "        return [tok.text]"
   ]
  }
 ],
 "metadata": {
  "kernelspec": {
   "display_name": "Python [conda env:ailab] *",
   "language": "python",
   "name": "conda-env-ailab-py"
  },
  "language_info": {
   "codemirror_mode": {
    "name": "ipython",
    "version": 3
   },
   "file_extension": ".py",
   "mimetype": "text/x-python",
   "name": "python",
   "nbconvert_exporter": "python",
   "pygments_lexer": "ipython3",
   "version": "3.7.11"
  }
 },
 "nbformat": 4,
 "nbformat_minor": 5
}
