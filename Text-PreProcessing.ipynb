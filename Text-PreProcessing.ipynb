{
 "cells": [
  {
   "cell_type": "markdown",
   "id": "c28c381b-ae1b-4366-a106-09d9b98c8d2c",
   "metadata": {},
   "source": [
    "# We want to convert text -> numerical values"
   ]
  },
  {
   "cell_type": "markdown",
   "id": "c448825f-b66a-4de0-8e6f-4be76c09f8d8",
   "metadata": {},
   "source": [
    "The Goals are:\n",
    "* Create Vocabulary mapping each word to an index\n",
    "* We need to setup PyTorch dataset to load the data\n",
    "* Setup padding of every padding (all example should be of the same sequence length)"
   ]
  },
  {
   "cell_type": "code",
   "execution_count": 1,
   "id": "6a8fa2af-7479-4802-826d-49ddcad077bf",
   "metadata": {},
   "outputs": [],
   "source": [
    "import re\n",
    "import pathlib\n",
    "import numpy as np\n",
    "from pathlib import Path\n",
    "from MSCOCO import COCO\n",
    "\n",
    "from nltk.corpus import stopwords\n",
    "from nltk.tokenize import word_tokenize"
   ]
  },
  {
   "cell_type": "code",
   "execution_count": 2,
   "id": "53b7a5ca",
   "metadata": {},
   "outputs": [],
   "source": [
    "root = Path('../../Datasets/MS COCO')\n",
    "imgs_path = root/'train2017'\n",
    "captions_path = root/'annotations_trainval2017'/'annotations'/'captions_train2017.json'"
   ]
  },
  {
   "cell_type": "code",
   "execution_count": 3,
   "id": "d2bcc3b2",
   "metadata": {},
   "outputs": [],
   "source": [
    "coco = COCO(imgs_path, captions_path)"
   ]
  },
  {
   "cell_type": "code",
   "execution_count": 4,
   "id": "b6197256",
   "metadata": {},
   "outputs": [
    {
     "data": {
      "text/plain": [
       "118287"
      ]
     },
     "execution_count": 4,
     "metadata": {},
     "output_type": "execute_result"
    }
   ],
   "source": [
    "len(coco.imgs)"
   ]
  },
  {
   "cell_type": "code",
   "execution_count": 5,
   "id": "8482e411",
   "metadata": {},
   "outputs": [
    {
     "data": {
      "text/plain": [
       "['Closeup of bins of food that include broccoli and bread.',\n",
       " 'A meal is presented in brightly colored plastic trays.',\n",
       " 'there are containers filled with different kinds of foods',\n",
       " 'Colorful dishes holding meat, vegetables, fruit, and bread.',\n",
       " 'A bunch of trays that have different food.']"
      ]
     },
     "execution_count": 5,
     "metadata": {},
     "output_type": "execute_result"
    }
   ],
   "source": [
    "coco.imgs_caps_dict['000000000009.jpg']"
   ]
  },
  {
   "cell_type": "code",
   "execution_count": 29,
   "id": "a47e064e",
   "metadata": {},
   "outputs": [
    {
     "data": {
      "text/plain": [
       "5242976"
      ]
     },
     "execution_count": 29,
     "metadata": {},
     "output_type": "execute_result"
    }
   ],
   "source": [
    "import sys\n",
    "sys.getsizeof(coco.imgs_caps_dict)"
   ]
  },
  {
   "cell_type": "code",
   "execution_count": 21,
   "id": "c5b0582a",
   "metadata": {},
   "outputs": [],
   "source": [
    "sentence = coco.imgs_caps_dict['000000000009.jpg'][0]\n",
    "stop_words = stopwords.words('english')"
   ]
  },
  {
   "cell_type": "code",
   "execution_count": 18,
   "id": "65972d22",
   "metadata": {},
   "outputs": [],
   "source": [
    "sentence = re.sub('\\W+',' ',sentence.lower())  # Remove all special characters, punctuation and spaces\n",
    "sentence = word_tokenize(sentence)\n",
    "sentence = [w for w in sentence if w not in stop_words]  # remove stop word"
   ]
  },
  {
   "cell_type": "code",
   "execution_count": 19,
   "id": "05f8e3e3",
   "metadata": {},
   "outputs": [
    {
     "data": {
      "text/plain": [
       "['closeup', 'bins', 'food', 'include', 'broccoli', 'bread']"
      ]
     },
     "execution_count": 19,
     "metadata": {},
     "output_type": "execute_result"
    }
   ],
   "source": [
    "sentence"
   ]
  },
  {
   "cell_type": "code",
   "execution_count": 135,
   "id": "b49a24f3",
   "metadata": {},
   "outputs": [],
   "source": [
    "class Vocabulary:\n",
    "    \n",
    "    # Constructor\n",
    "    def __init__(self, freq_threshold, sequence_length=6):\n",
    "        \"\"\"\n",
    "        Constructor to create vocabulary of words and to tokenize them.\n",
    "        :param freq_threshold (int): if a word is not repeated enough don't add it to the dictionary\n",
    "        :param stop_words (list): to remove stopping words\n",
    "        \"\"\"\n",
    "        self.idx_to_string = {\n",
    "            0: '<PAD>', # to pad all the captions to be the same size\n",
    "            1: '<SOS>', # Start of sentence\n",
    "            2: '<EOS>', # End of sentence\n",
    "            3: '<UNK>', # Unknown Token\n",
    "        }\n",
    "        self.string_to_index = {\n",
    "            '<PAD>': 0,\n",
    "            '<SOS>': 1,\n",
    "            '<EOS>': 2,\n",
    "            '<UNK>': 3,\n",
    "        }\n",
    "        self.freq_threshold = freq_threshold\n",
    "        self.sequence_length = sequence_length\n",
    "        stop_words = stopwords.words('english') # stop words in english\n",
    "        \n",
    "        \n",
    "    # return the length of the vocabulary\n",
    "    def __len__(self):\n",
    "        return len(self.idx_to_string)\n",
    "    \n",
    "    # static method we can use it without create an instance from the class\n",
    "    # tokenize a pieace of text\n",
    "    @staticmethod\n",
    "    def tokenizer_eng(sentence):\n",
    "        sentence = re.sub('\\W+',' ',sentence.lower())  # Remove all special characters, punctuation and spaces\n",
    "        tokenized_sentence = word_tokenize(sentence) # Tokenize the words\n",
    "        tokenized_sentence = [w for w in tokenized_sentence if w not in stop_words]  # remove stop word\n",
    "\n",
    "        return tokenized_sentence\n",
    "    \n",
    "    \n",
    "    # medthod to build the vocabulary for us\n",
    "    def build_vocabulary(self, sentence_list):\n",
    "        frequencies = {}\n",
    "        idx = len(self.idx_to_string)\n",
    "        for sentence in sentence_list:\n",
    "            for word in self.tokenizer_eng(sentence):\n",
    "                if word not in frequencies:\n",
    "                    frequencies[word] = 1\n",
    "                else:\n",
    "                    frequencies[word] += 1\n",
    "                \n",
    "                if frequencies[word] == self.freq_threshold:\n",
    "                    self.string_to_index[word] = idx\n",
    "                    self.idx_to_string[idx] = word\n",
    "                    idx += 1\n",
    "                    \n",
    "    \n",
    "    # method to convert words to numerical values\n",
    "    def numericalize(self, sentence):\n",
    "        tokenized_sentence = self.tokenizer_eng(sentence) # First tokenize the sentence\n",
    "        # then convert the words to numerical idxs from our vocab\n",
    "        idx_of_sentence = [self.string_to_index[word] if word in self.string_to_index else self.string_to_index['<UNK>'] for word in tokenized_sentence]\n",
    "        \n",
    "        if len(idx_of_sentence) >= self.sequence_length:\n",
    "            idx_of_sentence = idx_of_sentence[:self.sequence_length]\n",
    "        else:\n",
    "            idx_of_sentence.extend([self.string_to_index['<PAD>']] * (self.sequence_length - len(idx_of_sentence)))\n",
    "        return idx_of_sentence\n",
    "    \n",
    "    # method to convert idxs to words\n",
    "    def convert_to_text(self, idxs):\n",
    "        # convert idxs to words using idx_to_string\n",
    "        sentence = [self.idx_to_string[idx] if idx in self.idx_to_string else '' for idx in idxs]\n",
    "        # remove <PAD> if there is any\n",
    "        sentence = list(filter(lambda word: word != '<PAD>', sentence))\n",
    "        return sentence\n",
    "     "
   ]
  },
  {
   "cell_type": "code",
   "execution_count": 136,
   "id": "aa18d94b",
   "metadata": {},
   "outputs": [],
   "source": [
    "vocab_class = Vocabulary(1, 10)"
   ]
  },
  {
   "cell_type": "code",
   "execution_count": 137,
   "id": "bc9588c8",
   "metadata": {},
   "outputs": [
    {
     "data": {
      "text/plain": [
       "118287"
      ]
     },
     "execution_count": 137,
     "metadata": {},
     "output_type": "execute_result"
    }
   ],
   "source": [
    "len(coco.imgs_caps_dict)"
   ]
  },
  {
   "cell_type": "code",
   "execution_count": 138,
   "id": "8c2ddfbf",
   "metadata": {},
   "outputs": [],
   "source": [
    "vocab_class.build_vocabulary(coco.imgs_caps_dict['000000000009.jpg'])"
   ]
  },
  {
   "cell_type": "code",
   "execution_count": 139,
   "id": "3f56ae93",
   "metadata": {},
   "outputs": [
    {
     "data": {
      "text/plain": [
       "{0: '<PAD>',\n",
       " 1: '<SOS>',\n",
       " 2: '<EOS>',\n",
       " 3: '<UNK>',\n",
       " 4: 'closeup',\n",
       " 5: 'bins',\n",
       " 6: 'food',\n",
       " 7: 'include',\n",
       " 8: 'broccoli',\n",
       " 9: 'bread',\n",
       " 10: 'meal',\n",
       " 11: 'presented',\n",
       " 12: 'brightly',\n",
       " 13: 'colored',\n",
       " 14: 'plastic',\n",
       " 15: 'trays',\n",
       " 16: 'containers',\n",
       " 17: 'filled',\n",
       " 18: 'different',\n",
       " 19: 'kinds',\n",
       " 20: 'foods',\n",
       " 21: 'colorful',\n",
       " 22: 'dishes',\n",
       " 23: 'holding',\n",
       " 24: 'meat',\n",
       " 25: 'vegetables',\n",
       " 26: 'fruit',\n",
       " 27: 'bunch'}"
      ]
     },
     "execution_count": 139,
     "metadata": {},
     "output_type": "execute_result"
    }
   ],
   "source": [
    "vocab_class.idx_to_string"
   ]
  },
  {
   "cell_type": "code",
   "execution_count": 140,
   "id": "e7e2c0d9",
   "metadata": {},
   "outputs": [
    {
     "data": {
      "text/plain": [
       "'Closeup of bins of food that include broccoli and bread.'"
      ]
     },
     "execution_count": 140,
     "metadata": {},
     "output_type": "execute_result"
    }
   ],
   "source": [
    "coco.imgs_caps_dict['000000000009.jpg'][0]"
   ]
  },
  {
   "cell_type": "code",
   "execution_count": 141,
   "id": "7a71e069",
   "metadata": {},
   "outputs": [
    {
     "data": {
      "text/plain": [
       "[10, 11, 12, 13, 14, 15, 0, 0, 0, 0]"
      ]
     },
     "execution_count": 141,
     "metadata": {},
     "output_type": "execute_result"
    }
   ],
   "source": [
    "vocab_class.numericalize(coco.imgs_caps_dict['000000000009.jpg'][1])"
   ]
  },
  {
   "cell_type": "code",
   "execution_count": 142,
   "id": "1681a60d",
   "metadata": {},
   "outputs": [
    {
     "data": {
      "text/plain": [
       "'A meal is presented in brightly colored plastic trays.'"
      ]
     },
     "execution_count": 142,
     "metadata": {},
     "output_type": "execute_result"
    }
   ],
   "source": [
    "coco.imgs_caps_dict['000000000009.jpg'][1]"
   ]
  },
  {
   "cell_type": "code",
   "execution_count": 143,
   "id": "34b674d6",
   "metadata": {},
   "outputs": [
    {
     "name": "stdout",
     "output_type": "stream",
     "text": [
      "['meal', 'presented', 'brightly', 'colored', 'plastic', 'trays']\n"
     ]
    }
   ],
   "source": [
    "idxs = vocab_class.numericalize(coco.imgs_caps_dict['000000000009.jpg'][1])\n",
    "print(vocab_class.convert_to_text(idxs))"
   ]
  }
 ],
 "metadata": {
  "kernelspec": {
   "display_name": "Python [conda env:ailab] *",
   "language": "python",
   "name": "conda-env-ailab-py"
  },
  "language_info": {
   "codemirror_mode": {
    "name": "ipython",
    "version": 3
   },
   "file_extension": ".py",
   "mimetype": "text/x-python",
   "name": "python",
   "nbconvert_exporter": "python",
   "pygments_lexer": "ipython3",
   "version": "3.7.11"
  }
 },
 "nbformat": 4,
 "nbformat_minor": 5
}
