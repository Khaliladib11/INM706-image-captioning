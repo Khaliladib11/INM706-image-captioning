{
 "cells": [
  {
   "cell_type": "markdown",
   "id": "c28c381b-ae1b-4366-a106-09d9b98c8d2c",
   "metadata": {},
   "source": [
    "# We want to convert text -> numerical values"
   ]
  },
  {
   "cell_type": "markdown",
   "id": "c448825f-b66a-4de0-8e6f-4be76c09f8d8",
   "metadata": {},
   "source": [
    "The Goals are:\n",
    "* Create Vocabulary mapping each word to an index\n",
    "* We need to setup PyTorch dataset to load the data\n",
    "* Setup padding of every padding (all example should be of the same sequence length)"
   ]
  },
  {
   "cell_type": "code",
   "execution_count": 1,
   "id": "ed811f7b",
   "metadata": {},
   "outputs": [],
   "source": [
    "import re\n",
    "import pathlib\n",
    "import numpy as np\n",
    "from pathlib import Path\n",
    "from MSCOCO import COCO\n",
    "from Vocabulary import Vocabulary\n",
    "from collections import deque\n",
    "from itertools import islice\n",
    "\n",
    "from nltk.corpus import stopwords\n",
    "from nltk.tokenize import word_tokenize"
   ]
  },
  {
   "cell_type": "code",
   "execution_count": 2,
   "id": "4a87ea37-9833-45f8-8bd4-05a0a7be1f20",
   "metadata": {},
   "outputs": [
    {
     "name": "stderr",
     "output_type": "stream",
     "text": [
      "[nltk_data] Downloading package stopwords to\n",
      "[nltk_data]     /Users/alexxcollins/nltk_data...\n",
      "[nltk_data]   Package stopwords is already up-to-date!\n",
      "[nltk_data] Downloading package punkt to\n",
      "[nltk_data]     /Users/alexxcollins/nltk_data...\n",
      "[nltk_data]   Package punkt is already up-to-date!\n"
     ]
    },
    {
     "data": {
      "text/plain": [
       "True"
      ]
     },
     "execution_count": 2,
     "metadata": {},
     "output_type": "execute_result"
    }
   ],
   "source": [
    "import nltk\n",
    "nltk.download('stopwords')\n",
    "nltk.download('punkt')"
   ]
  },
  {
   "cell_type": "code",
   "execution_count": 3,
   "id": "e81948d6",
   "metadata": {},
   "outputs": [],
   "source": [
    "root = Path('./Datasets/coco')\n",
    "imgs_path = root/'images'/'train2017'\n",
    "captions_path = root/'annotations'/'captions_train2017.json'"
   ]
  },
  {
   "cell_type": "code",
   "execution_count": 4,
   "id": "fa581545-2f83-46a9-b792-d615fb30b986",
   "metadata": {},
   "outputs": [],
   "source": [
    "coco = COCO(imgs_path, captions_path)\n",
    "\n",
    "vocab_class = Vocabulary(4, 6)\n",
    "vocab_class2 = Vocabulary(4, 6)\n",
    "\n",
    "sentence_list = coco.captions_to_list()"
   ]
  },
  {
   "cell_type": "markdown",
   "id": "e38de39e-c45a-4782-8b62-69b0d59f48f3",
   "metadata": {},
   "source": [
    "Test the original `build_vocabulary` method:"
   ]
  },
  {
   "cell_type": "code",
   "execution_count": 5,
   "id": "b2b41ad1",
   "metadata": {},
   "outputs": [
    {
     "name": "stdout",
     "output_type": "stream",
     "text": [
      "CPU times: user 47 s, sys: 58 ms, total: 47 s\n",
      "Wall time: 47.3 s\n"
     ]
    }
   ],
   "source": [
    "%%time\n",
    "vocab_class.build_vocabulary(sentence_list)"
   ]
  },
  {
   "cell_type": "code",
   "execution_count": 6,
   "id": "b6dd3124-6793-4bba-8b17-830e9603378e",
   "metadata": {},
   "outputs": [
    {
     "data": {
      "text/plain": [
       "(11221, 11221)"
      ]
     },
     "execution_count": 6,
     "metadata": {},
     "output_type": "execute_result"
    }
   ],
   "source": [
    "len(vocab_class.idx_to_string), len(vocab_class.string_to_index)"
   ]
  },
  {
   "cell_type": "markdown",
   "id": "32aea7eb-6662-4eec-8011-bc275f475848",
   "metadata": {},
   "source": [
    "Test the new `build_vocaulary` method"
   ]
  },
  {
   "cell_type": "code",
   "execution_count": 7,
   "id": "40b86710-a23c-494a-a03c-73dd418298a5",
   "metadata": {},
   "outputs": [
    {
     "name": "stdout",
     "output_type": "stream",
     "text": [
      "CPU times: user 22 s, sys: 394 ms, total: 22.4 s\n",
      "Wall time: 22.6 s\n"
     ]
    }
   ],
   "source": [
    "%%time\n",
    "vocab_class2.build_vocab2(sentence_list)"
   ]
  },
  {
   "cell_type": "code",
   "execution_count": 8,
   "id": "b601908b-0ecb-4f42-900c-47bbe516cd39",
   "metadata": {},
   "outputs": [
    {
     "data": {
      "text/plain": [
       "(11221, 11221)"
      ]
     },
     "execution_count": 8,
     "metadata": {},
     "output_type": "execute_result"
    }
   ],
   "source": [
    "len(vocab_class.idx_to_string), len(vocab_class.string_to_index)"
   ]
  },
  {
   "cell_type": "code",
   "execution_count": 9,
   "id": "fd70a21e-63b8-4c6d-adc6-79554fbc3b8e",
   "metadata": {},
   "outputs": [
    {
     "data": {
      "text/plain": [
       "True"
      ]
     },
     "execution_count": 9,
     "metadata": {},
     "output_type": "execute_result"
    }
   ],
   "source": [
    "v1 = sorted([key for key in vocab_class.string_to_index])\n",
    "v2 = sorted([key for key in vocab_class2.string_to_index])\n",
    "v1 == v2"
   ]
  },
  {
   "cell_type": "code",
   "execution_count": 10,
   "id": "2bafa264-042b-4345-9505-9103395c6690",
   "metadata": {},
   "outputs": [
    {
     "data": {
      "text/plain": [
       "['0', '00', '1', '10', '100', '10th', '11', '11th', '12', '13']"
      ]
     },
     "execution_count": 10,
     "metadata": {},
     "output_type": "execute_result"
    }
   ],
   "source": [
    "v1[:10]"
   ]
  },
  {
   "cell_type": "code",
   "execution_count": 11,
   "id": "572f51c9-ce13-4e9b-9329-fcd2f89c324f",
   "metadata": {},
   "outputs": [
    {
     "data": {
      "text/plain": [
       "['0', '00', '1', '10', '100', '10th', '11', '11th', '12', '13']"
      ]
     },
     "execution_count": 11,
     "metadata": {},
     "output_type": "execute_result"
    }
   ],
   "source": [
    "v2[:10]"
   ]
  },
  {
   "cell_type": "code",
   "execution_count": null,
   "id": "052b40e5-123c-45e7-93bf-6b927bf9b7f3",
   "metadata": {},
   "outputs": [],
   "source": []
  }
 ],
 "metadata": {
  "kernelspec": {
   "display_name": "Python 3 (ipykernel)",
   "language": "python",
   "name": "python3"
  },
  "language_info": {
   "codemirror_mode": {
    "name": "ipython",
    "version": 3
   },
   "file_extension": ".py",
   "mimetype": "text/x-python",
   "name": "python",
   "nbconvert_exporter": "python",
   "pygments_lexer": "ipython3",
   "version": "3.9.7"
  }
 },
 "nbformat": 4,
 "nbformat_minor": 5
}
