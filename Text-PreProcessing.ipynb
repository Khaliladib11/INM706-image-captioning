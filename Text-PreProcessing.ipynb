{
 "cells": [
  {
   "cell_type": "markdown",
   "id": "c28c381b-ae1b-4366-a106-09d9b98c8d2c",
   "metadata": {},
   "source": [
    "# We want to convert text -> numerical values"
   ]
  },
  {
   "cell_type": "markdown",
   "id": "c448825f-b66a-4de0-8e6f-4be76c09f8d8",
   "metadata": {},
   "source": [
    "The Goals are:\n",
    "* Create Vocabulary mapping each word to an index\n",
    "* We need to setup PyTorch dataset to load the data\n",
    "* Setup padding of every padding (all example should be of the same sequence length)"
   ]
  },
  {
   "cell_type": "code",
   "execution_count": 1,
   "id": "ed811f7b",
   "metadata": {},
   "outputs": [],
   "source": [
    "import re\n",
    "import pathlib\n",
    "import numpy as np\n",
    "from pathlib import Path\n",
    "from MSCOCO import COCO\n",
    "from Vocabulary import Vocabulary\n",
    "from collections import deque\n",
    "from itertools import islice\n",
    "\n",
    "from nltk.corpus import stopwords\n",
    "from nltk.tokenize import word_tokenize"
   ]
  },
  {
   "cell_type": "code",
   "execution_count": 2,
   "id": "e81948d6",
   "metadata": {},
   "outputs": [],
   "source": [
    "root = Path('../../Datasets/MS COCO')\n",
    "imgs_path = root/'train2017'\n",
    "captions_path = root/'annotations_trainval2017'/'annotations'/'captions_train2017.json'"
   ]
  },
  {
   "cell_type": "code",
   "execution_count": 3,
   "id": "a4005b80",
   "metadata": {},
   "outputs": [],
   "source": [
    "coco = COCO(imgs_path, captions_path)"
   ]
  },
  {
   "cell_type": "code",
   "execution_count": 4,
   "id": "bfcb2599",
   "metadata": {},
   "outputs": [],
   "source": [
    "vocab_class = Vocabulary(4, 6)"
   ]
  },
  {
   "cell_type": "code",
   "execution_count": 5,
   "id": "ffe4c94e",
   "metadata": {},
   "outputs": [],
   "source": [
    "sentence_list = coco.captions_to_list()"
   ]
  },
  {
   "cell_type": "code",
   "execution_count": 6,
   "id": "83a07b45",
   "metadata": {},
   "outputs": [],
   "source": [
    "test_deque = deque(islice(sentence_list, 0, 1000))"
   ]
  },
  {
   "cell_type": "code",
   "execution_count": 7,
   "id": "b2b41ad1",
   "metadata": {},
   "outputs": [],
   "source": [
    "vocab_class.build_vocabulary(test_deque)"
   ]
  },
  {
   "cell_type": "code",
   "execution_count": 8,
   "id": "152c7cc6",
   "metadata": {},
   "outputs": [
    {
     "data": {
      "text/plain": [
       "363"
      ]
     },
     "execution_count": 8,
     "metadata": {},
     "output_type": "execute_result"
    }
   ],
   "source": [
    "len(vocab_class.idx_to_string)"
   ]
  },
  {
   "cell_type": "code",
   "execution_count": 9,
   "id": "512bf07d",
   "metadata": {},
   "outputs": [
    {
     "data": {
      "text/plain": [
       "363"
      ]
     },
     "execution_count": 9,
     "metadata": {},
     "output_type": "execute_result"
    }
   ],
   "source": [
    "len(vocab_class.string_to_index)"
   ]
  }
 ],
 "metadata": {
  "kernelspec": {
   "display_name": "Python [conda env:ailab] *",
   "language": "python",
   "name": "conda-env-ailab-py"
  },
  "language_info": {
   "codemirror_mode": {
    "name": "ipython",
    "version": 3
   },
   "file_extension": ".py",
   "mimetype": "text/x-python",
   "name": "python",
   "nbconvert_exporter": "python",
   "pygments_lexer": "ipython3",
   "version": "3.7.11"
  }
 },
 "nbformat": 4,
 "nbformat_minor": 5
}
