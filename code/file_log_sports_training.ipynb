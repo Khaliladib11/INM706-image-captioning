{
 "cells": [
  {
   "cell_type": "markdown",
   "id": "0cdd754b-ab23-407b-9862-f68d35132396",
   "metadata": {},
   "source": [
    "# Taking note of vocab and pth files and folders used to train sports data\n",
    "\n",
    "In a future iteration of the code, we should save the vocab json file with the trained model paramaters. Now we have to keep track of captions, vocab and pth files so that we are using a consistent set for each model evalution\n",
    "\n",
    "| Model         | captions_name | checkpoint folder|\n",
    "| ------------- |---------------| --------------   | \n",
    "| sports_v1     | sports_v1     | model_sport_v1   |\n",
    "| sports_v3     | sports_v2     | model_sport_v3   |\n",
    "| sports_v4     | sports_v4     | model_sport_v4   |\n",
    "| sports_v5     | sports_v5     | model_sport_v5   |\n",
    "| everything    | everything    | model_everything |"
   ]
  },
  {
   "cell_type": "markdown",
   "id": "2781aba4-29b8-46dd-8ea0-edacc773f76d",
   "metadata": {},
   "source": [
    "v1, v3"
   ]
  },
  {
   "cell_type": "code",
   "execution_count": null,
   "id": "7dd1b23e-5398-4178-b81b-5d6326b3a461",
   "metadata": {},
   "outputs": [],
   "source": []
  }
 ],
 "metadata": {
  "kernelspec": {
   "display_name": "Python 3 (ipykernel)",
   "language": "python",
   "name": "python3"
  },
  "language_info": {
   "codemirror_mode": {
    "name": "ipython",
    "version": 3
   },
   "file_extension": ".py",
   "mimetype": "text/x-python",
   "name": "python",
   "nbconvert_exporter": "python",
   "pygments_lexer": "ipython3",
   "version": "3.8.12"
  }
 },
 "nbformat": 4,
 "nbformat_minor": 5
}
