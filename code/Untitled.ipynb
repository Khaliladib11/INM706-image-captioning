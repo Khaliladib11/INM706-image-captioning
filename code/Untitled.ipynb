{
 "cells": [
  {
   "cell_type": "code",
   "execution_count": 1,
   "id": "5a0fe066",
   "metadata": {},
   "outputs": [],
   "source": [
    "from get_loader import get_loader\n",
    "import json\n",
    "import os"
   ]
  },
  {
   "cell_type": "code",
   "execution_count": 2,
   "id": "6827590e",
   "metadata": {},
   "outputs": [],
   "source": [
    "with open('../vocabulary/idx2word.json') as json_file:\n",
    "    idx_to_string_json = json.load(json_file)\n",
    "        \n",
    "idx_to_string = dict()\n",
    "for key in idx_to_string_json:\n",
    "    idx_to_string[int(key)] = idx_to_string_json[key]\n",
    "    \n",
    "with open('../vocabulary/word2idx.json') as json_file:\n",
    "    string_to_index = json.load(json_file)"
   ]
  },
  {
   "cell_type": "code",
   "execution_count": 3,
   "id": "2573252f",
   "metadata": {},
   "outputs": [],
   "source": [
    "image_path = '../../CW/Data/train2017'\n",
    "captions_path = '../../CW/Data/annotations_trainval2017/annotations/captions_train2017.json'\n",
    "freq_threshold = 5\n",
    "caps_per_image = 5\n",
    "batch_size = 32\n",
    "shuffle = True"
   ]
  },
  {
   "cell_type": "code",
   "execution_count": 5,
   "id": "65e5715d",
   "metadata": {},
   "outputs": [],
   "source": [
    "loader_params = {\n",
    "    'images_path': image_path,\n",
    "    'captions_path': captions_path,\n",
    "    'freq_threshold': freq_threshold,\n",
    "    'caps_per_image': caps_per_image,\n",
    "    'batch_size': batch_size,\n",
    "    'shuffle': shuffle,\n",
    "    'mode': 'train',\n",
    "    'idx2word': None,\n",
    "    'word2idx': None\n",
    "}\n",
    "\n",
    "loader, dataset = get_loader(**loader_params)"
   ]
  }
 ],
 "metadata": {
  "kernelspec": {
   "display_name": "Python [conda env:ailab] *",
   "language": "python",
   "name": "conda-env-ailab-py"
  },
  "language_info": {
   "codemirror_mode": {
    "name": "ipython",
    "version": 3
   },
   "file_extension": ".py",
   "mimetype": "text/x-python",
   "name": "python",
   "nbconvert_exporter": "python",
   "pygments_lexer": "ipython3",
   "version": "3.7.11"
  }
 },
 "nbformat": 4,
 "nbformat_minor": 5
}
