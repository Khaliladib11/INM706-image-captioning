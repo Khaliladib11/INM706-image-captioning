{
 "cells": [
  {
   "cell_type": "markdown",
   "id": "9cb673dc",
   "metadata": {},
   "source": [
    "# Train the Model"
   ]
  },
  {
   "cell_type": "markdown",
   "id": "05f57e85",
   "metadata": {},
   "source": [
    "## Import Libraries"
   ]
  },
  {
   "cell_type": "code",
   "execution_count": 2,
   "id": "23ba6a74-1033-44ad-ac91-930843f720db",
   "metadata": {
    "tags": []
   },
   "outputs": [],
   "source": [
    "import torch\n",
    "import torch.nn as nn\n",
    "import torch.utils.data as data\n",
    "import torch.optim as optim\n",
    "import torchvision.transforms as transforms\n",
    "from torch.utils.tensorboard import SummaryWriter\n",
    "from models import Encoder, Decoder\n",
    "\n",
    "from pathlib import Path\n",
    "from DatasetInterface import MSCOCOInterface\n",
    "from data_prep_utils import *\n",
    "import json\n",
    "import numpy as np\n",
    "import time\n",
    "\n",
    "###### download the data we need\n",
    "# !cd ~/INM706-image-captioning/Datasets/coco/images/\n",
    "# !wget http://images.cocodataset.org/zips/train2017.zip\n",
    "# !wget http://images.cocodataset.org/zips/val2017.zip\n",
    "# !unzip train2017.zip\n",
    "# !unzip val2017.zip\n",
    "# !rm train2017.zip\n",
    "# !rm val2017.zip\n",
    "\n",
    "##### run code below if nltk hasn't been set up in clound instance yet\n",
    "# !python -m nltk.downloader -d /usr/local/share/nltk_data all\n",
    "\n",
    "###### run code below to save pre-trained weights if needed\n",
    "# cd ~/INM706-image-captioning/model\n",
    "# !wget https://download.pytorch.org/models/resnet152-394f9c45.pth\n",
    "# !mv resnet152-394f9c45.pth resnet152_model.pth"
   ]
  },
  {
   "cell_type": "markdown",
   "id": "ebdaa079",
   "metadata": {},
   "source": [
    "## Load Dataset Interface and DataLoader"
   ]
  },
  {
   "cell_type": "code",
   "execution_count": 15,
   "id": "2472cfa6",
   "metadata": {},
   "outputs": [
    {
     "name": "stdout",
     "output_type": "stream",
     "text": [
      "train dataset has 15000 images\n",
      " val dataset has 3000 images\n",
      " test dataset has 938 images\n",
      "There are 591753 captions in the data set\n",
      "With FREQ_THRESHOLD = 2, vocab size is 16232\n"
     ]
    }
   ],
   "source": [
    "#########\n",
    "# paths for Khalil\n",
    "#########\n",
    "# root = Path('Data')\n",
    "\n",
    "#captions_path = root/'annotations'/'captions_train2017.json'\n",
    "\n",
    "# train_captions_path = root/'annotations_trainval2017'/'annotations'/'sports_captions_train.json'\n",
    "# val_captions_path = root/'annotations_trainval2017'/'annotations'/'sports_captions_val.json'\n",
    "# test_captions_path = root/'annotations_trainval2017'/'annotations'/'sports_captions_test.json'\n",
    "\n",
    "#########\n",
    "# paths for Alex\n",
    "#########\n",
    "\n",
    "root = Path('Datasets/coco')\n",
    "imgs_path = root/'images'/'train2017'\n",
    "imgs_path_test = root/'images'/'val2017'\n",
    "\n",
    "prepare_datasets(train_percent = 0.87, super_categories=['sports'],\n",
    "                    max_train=15000, max_val=3000, max_test=3000)\n",
    "\n",
    "train_captions_path = root/'annotations'/'sports_captions_train.json'\n",
    "val_captions_path = root/'annotations'/'sports_captions_val.json'\n",
    "test_captions_path = root/'annotations'/'sports_captions_test.json'\n",
    "\n",
    "#### build vocab using full original coco train\n",
    "build_vocab(freq_threshold=2, sequence_length=40,\n",
    "            captions_file=['captions_train2017.json'])\n",
    "# load vocab\n",
    "with open('vocabulary/idx_to_string.json') as json_file:\n",
    "    idx_to_string_json = json.load(json_file)\n",
    "        \n",
    "idx_to_string = dict()\n",
    "for key in idx_to_string_json:\n",
    "    idx_to_string[int(key)] = idx_to_string_json[key]\n",
    "    \n",
    "with open('vocabulary/string_to_index.json') as json_file:\n",
    "    string_to_index = json.load(json_file)\n"
   ]
  },
  {
   "cell_type": "code",
   "execution_count": 16,
   "id": "20a5bb23-a391-4fb2-9f1b-5f4f93b2c2c9",
   "metadata": {},
   "outputs": [],
   "source": [
    "root = Path('Datasets/coco')\n",
    "imgs_path = root/'images'/'train2017'\n",
    "imgs_path_test = root/'images'/'val2017'\n",
    "\n",
    "train_captions_path = root/'annotations'/'sports_captions_train.json'\n",
    "val_captions_path = root/'annotations'/'sports_captions_val.json'\n",
    "test_captions_path = root/'annotations'/'sports_captions_test.json'\n",
    "\n",
    "# load vocab\n",
    "with open('vocabulary/idx_to_string.json') as json_file:\n",
    "    idx_to_string_json = json.load(json_file)\n",
    "        \n",
    "idx_to_string = dict()\n",
    "for key in idx_to_string_json:\n",
    "    idx_to_string[int(key)] = idx_to_string_json[key]\n",
    "    \n",
    "with open('vocabulary/string_to_index.json') as json_file:\n",
    "    string_to_index = json.load(json_file)"
   ]
  },
  {
   "cell_type": "code",
   "execution_count": 17,
   "id": "ab72e6eb",
   "metadata": {},
   "outputs": [],
   "source": [
    "# to boost the performence of CUDA use:\n",
    "# torch.backends.cudnn.benchmark = True\n",
    "device = torch.device(\"cuda\" if torch.cuda.is_available() else \"cpu\")"
   ]
  },
  {
   "cell_type": "code",
   "execution_count": 18,
   "id": "8143132d",
   "metadata": {},
   "outputs": [],
   "source": [
    "train_interface_params = {\n",
    "    'imgs_path': imgs_path,\n",
    "    'captions_path': train_captions_path,\n",
    "    'freq_threshold': 5,\n",
    "    'sequence_length': 20,\n",
    "    'caps_per_img': 3,\n",
    "    'stage': \"train\",\n",
    "    'idx_to_string': idx_to_string,\n",
    "    'string_to_index': string_to_index,\n",
    "}\n",
    "\n",
    "val_interface_params = {\n",
    "    'imgs_path': imgs_path,\n",
    "    'captions_path': val_captions_path,\n",
    "    'freq_threshold': 5,\n",
    "    'sequence_length': 20,\n",
    "    'caps_per_img': 3,\n",
    "    'stage': \"validation\",\n",
    "    'idx_to_string': idx_to_string,\n",
    "    'string_to_index': string_to_index,\n",
    "}\n",
    "\n",
    "test_interface_params = {\n",
    "    'imgs_path': imgs_path_test,\n",
    "    'captions_path': test_captions_path,\n",
    "    'freq_threshold': 5,\n",
    "    'sequence_length': 20,\n",
    "    'caps_per_img': 3,\n",
    "    'stage': \"test\",\n",
    "    'idx_to_string': idx_to_string,\n",
    "    'string_to_index': string_to_index,\n",
    "}\n",
    "\n",
    "\n",
    "# Training Interface\n",
    "coco_interface_train = MSCOCOInterface(**train_interface_params)\n",
    "\n",
    "# Validation Interface\n",
    "coco_interface_val = MSCOCOInterface(**val_interface_params)\n",
    "\n",
    "# Testing Interface\n",
    "coco_interface_test = MSCOCOInterface(**test_interface_params)\n"
   ]
  },
  {
   "cell_type": "code",
   "execution_count": 19,
   "id": "f38c73a0",
   "metadata": {},
   "outputs": [
    {
     "name": "stdout",
     "output_type": "stream",
     "text": [
      "Lenght of training image: 45000, Lenght of Validation image: 9000 Lenght of Testing image: 2814\n",
      "Length of vocabulary: 16232\n"
     ]
    }
   ],
   "source": [
    "print(\"Lenght of training image: {}, Lenght of Validation image: {} Lenght of Testing image: {}\"\\\n",
    "      .format(len(coco_interface_train), len(coco_interface_val), len(coco_interface_test)))\n",
    "\n",
    "print(f\"Length of vocabulary: {len(coco_interface_train.idx_to_string)}\")"
   ]
  },
  {
   "cell_type": "code",
   "execution_count": 31,
   "id": "8237cb08",
   "metadata": {},
   "outputs": [],
   "source": [
    "batch_size = 32\n",
    "train_loader = data.DataLoader(coco_interface_train, batch_size=batch_size, shuffle=True)\n",
    "val_loader = data.DataLoader(coco_interface_val, batch_size=batch_size, shuffle=False)\n",
    "test_loader = data.DataLoader(coco_interface_test, batch_size=batch_size, shuffle=False)"
   ]
  },
  {
   "cell_type": "markdown",
   "id": "08a85bb9",
   "metadata": {},
   "source": [
    "## Parameters"
   ]
  },
  {
   "cell_type": "code",
   "execution_count": 32,
   "id": "46e041f3",
   "metadata": {},
   "outputs": [],
   "source": [
    "embed_size = 512\n",
    "hidden_size = 512\n",
    "vocab_size = len(coco_interface_train.idx_to_string)\n",
    "num_layers = 1"
   ]
  },
  {
   "cell_type": "markdown",
   "id": "4d52f24c",
   "metadata": {},
   "source": [
    "## Encoder and Decoder"
   ]
  },
  {
   "cell_type": "code",
   "execution_count": 33,
   "id": "7fc0b62d",
   "metadata": {},
   "outputs": [
    {
     "name": "stdout",
     "output_type": "stream",
     "text": [
      "########################################READY########################################\n"
     ]
    }
   ],
   "source": [
    "encoder = Encoder(embed_size=embed_size, pretrained=False, model_weight_path=\"./model/resnet152_model.pth\")\n",
    "decoder = Decoder(embed_size=embed_size, hidden_size=hidden_size, vocab_size=vocab_size, num_layers=num_layers)\n",
    "print(\"########################################READY########################################\")"
   ]
  },
  {
   "cell_type": "code",
   "execution_count": 34,
   "id": "8f6a4973",
   "metadata": {},
   "outputs": [],
   "source": [
    "# the loss is a cross entropy loss and ignore the index of <PAD> since it doesn't make any difference\n",
    "criterion = nn.CrossEntropyLoss(ignore_index=coco_interface_train.string_to_index[\"<PAD>\"])\n",
    "\n",
    "# combine the paramters of decoder and ecnoder\n",
    "params = list(decoder.parameters()) + list(encoder.embed.parameters())\n",
    "\n",
    "# Adam optimizer\n",
    "opt_pars = {'lr':1e-5, 'weight_decay':1e-3, 'betas':(0.9, 0.999), 'eps':1e-08}\n",
    "optimizer = optim.Adam(params, **opt_pars)"
   ]
  },
  {
   "cell_type": "markdown",
   "id": "436dff8a",
   "metadata": {},
   "source": [
    "## Train"
   ]
  },
  {
   "cell_type": "code",
   "execution_count": 35,
   "id": "14c8e3e8",
   "metadata": {},
   "outputs": [],
   "source": [
    "def save_model(epoch, encoder, decoder, training_loss, validation_loss, checkpoint_path):\n",
    "    torch.save({\n",
    "        'epoch': epoch,\n",
    "        'encoder_state_dict': encoder.state_dict(),\n",
    "        'decoder_state_dict': decoder.state_dict(),\n",
    "        'training_loss': training_loss,\n",
    "        'validation_loss': validation_loss\n",
    "    }, checkpoint_path)\n",
    "\n",
    "def load_model(encoder, decoder, checkpoint_path):\n",
    "\n",
    "    checkpoint = torch.load(checkpoint_path)\n",
    "    encoder.load_state_dict(checkpoint['encoder_state_dict'])\n",
    "    decoder.load_state_dict(checkpoint['decoder_state_dict'])\n",
    "    training_loss = checkpoint['training_loss']\n",
    "    validation_loss = checkpoint['validation_loss']\n",
    "\n",
    "    return encoder, decoder, training_loss, validation_loss\n"
   ]
  },
  {
   "cell_type": "code",
   "execution_count": 104,
   "id": "de69f6e6",
   "metadata": {},
   "outputs": [],
   "source": [
    "CHECKPOINT = './model/image_captioning_model_v4.pth'\n",
    "if Path(CHECKPOINT).exists():\n",
    "    encoder, decoder, training_loss, validation_loss = load_model(encoder, decoder, CHECKPOINT)\n",
    "else:\n",
    "    print(f'{CHECKPOINT} file does not exist, training startging from scratch')"
   ]
  },
  {
   "cell_type": "code",
   "execution_count": 105,
   "id": "596c1efd-fe22-42d3-8808-4595308a0410",
   "metadata": {},
   "outputs": [
    {
     "ename": "KeyboardInterrupt",
     "evalue": "",
     "output_type": "error",
     "traceback": [
      "\u001b[0;31m---------------------------------------------------------------------------\u001b[0m",
      "\u001b[0;31mKeyboardInterrupt\u001b[0m                         Traceback (most recent call last)",
      "Input \u001b[0;32mIn [105]\u001b[0m, in \u001b[0;36m<module>\u001b[0;34m\u001b[0m\n\u001b[1;32m      1\u001b[0m \u001b[38;5;28;01mfor\u001b[39;00m i, batch \u001b[38;5;129;01min\u001b[39;00m \u001b[38;5;28menumerate\u001b[39m(val_loader):\n\u001b[1;32m      2\u001b[0m     idx, images, captions \u001b[38;5;241m=\u001b[39m batch\n\u001b[0;32m----> 3\u001b[0m     images, captions \u001b[38;5;241m=\u001b[39m \u001b[43mimages\u001b[49m\u001b[38;5;241;43m.\u001b[39;49m\u001b[43mto\u001b[49m\u001b[43m(\u001b[49m\u001b[43mdevice\u001b[49m\u001b[43m)\u001b[49m, captions\u001b[38;5;241m.\u001b[39mto(device)\n\u001b[1;32m      4\u001b[0m     features \u001b[38;5;241m=\u001b[39m encoder(images)\n\u001b[1;32m      5\u001b[0m     outputs \u001b[38;5;241m=\u001b[39m decoder(features, captions)\n",
      "\u001b[0;31mKeyboardInterrupt\u001b[0m: "
     ]
    }
   ],
   "source": [
    "for i, batch in enumerate(val_loader):\n",
    "    idx, images, captions = batch\n",
    "    images, captions = images.to(device), captions.to(device)\n",
    "    features = encoder(images)\n",
    "    outputs = decoder(features, captions)\n",
    "    loss = criterion(outputs.view(-1, vocab_size), captions.contiguous().view(-1))\n",
    "    val_epoch_loss += loss.item()"
   ]
  },
  {
   "cell_type": "code",
   "execution_count": 106,
   "id": "85552ad3-7ca6-4558-8f2c-0e6a99ce7ff1",
   "metadata": {
    "tags": []
   },
   "outputs": [
    {
     "name": "stdout",
     "output_type": "stream",
     "text": [
      "Validation:  0   2.4801230430603027\n",
      "Validation:  100   2.296351909637451\n",
      "Validation:  200   2.365896701812744\n",
      "Validation Loss: 2.5361, Validation Perplexity: 12.6303.\n"
     ]
    }
   ],
   "source": [
    "encoder.to(device)\n",
    "decoder.to(device)\n",
    "encoder.eval()\n",
    "decoder.eval()\n",
    "\n",
    "val_epoch_loss = 0\n",
    "for i, batch in enumerate(val_loader):\n",
    "    idx, images, captions = batch\n",
    "    images, captions = images.to(device), captions.to(device)\n",
    "    features = encoder(images)\n",
    "    outputs = decoder(features, captions)\n",
    "    loss = criterion(outputs.view(-1, vocab_size), captions.contiguous().view(-1))\n",
    "    val_epoch_loss += loss.item()\n",
    "    if i % 100 == 0:\n",
    "        print('Validation: ', i, ' ', loss.item())\n",
    "\n",
    "val_epoch_loss /= len(val_loader)\n",
    "validation_loss.append(val_epoch_loss)\n",
    "    \n",
    "        \n",
    "print(\"Validation Loss: {:.4f}, Validation Perplexity: {:.4f}.\"\n",
    "      .format(val_epoch_loss, np.exp(val_epoch_loss)))\n",
    "          \n",
    "# random image:\n",
    "\n",
    "    "
   ]
  },
  {
   "cell_type": "code",
   "execution_count": 112,
   "id": "de72cebc-b9a0-4059-ac89-72c7f9319546",
   "metadata": {},
   "outputs": [
    {
     "data": {
      "text/plain": [
       "torch.Size([32, 512])"
      ]
     },
     "execution_count": 112,
     "metadata": {},
     "output_type": "execute_result"
    }
   ],
   "source": [
    "for i, batch in enumerate(train_loader):\n",
    "    idx, images, captions = batch\n",
    "    images, captions = images.to(device), captions.to(device)\n",
    "    if i == 0: break\n",
    "# decoder.get_predict(encoder(images), 20)\n",
    "encoder(images).shape\n"
   ]
  },
  {
   "cell_type": "code",
   "execution_count": 113,
   "id": "7880ffd1-843c-4fa6-b5d4-77bdb8f5edb9",
   "metadata": {},
   "outputs": [
    {
     "name": "stdout",
     "output_type": "stream",
     "text": [
      "<SOS> a <SOS> a <SOS> a <SOS> a <SOS> a <SOS> a <SOS> a <SOS> a <SOS> a <SOS> a\n",
      "<SOS> a <SOS> a <SOS> a <SOS> a <SOS> a <SOS> a <SOS> a <SOS> a <SOS> a <SOS> a\n",
      "<SOS> a <SOS> a <SOS> a <SOS> a <SOS> a <SOS> a <SOS> a <SOS> a <SOS> a <SOS> a\n",
      "<SOS> a <SOS> a <SOS> a <SOS> a <SOS> a <SOS> a <SOS> a <SOS> a <SOS> a <SOS> a\n",
      "<SOS> a <SOS> a <SOS> a <SOS> a <SOS> a <SOS> a <SOS> a <SOS> a <SOS> a <SOS> a\n",
      "<SOS> a <SOS> a <SOS> a <SOS> a <SOS> a <SOS> a <SOS> a <SOS> a <SOS> a <SOS> a\n",
      "<SOS> a <SOS> a <SOS> a <SOS> a <SOS> a <SOS> a <SOS> a <SOS> a <SOS> a <SOS> a\n",
      "<SOS> a <SOS> a <SOS> a <SOS> a <SOS> a <SOS> a <SOS> a <SOS> a <SOS> a <SOS> a\n",
      "<SOS> a <SOS> a <SOS> a <SOS> a <SOS> a <SOS> a <SOS> a <SOS> a <SOS> a <SOS> a\n",
      "<SOS> a <SOS> a <SOS> a <SOS> a <SOS> a <SOS> a <SOS> a <SOS> a <SOS> a <SOS> a\n",
      "<SOS> a <SOS> a <SOS> a <SOS> a <SOS> a <SOS> a <SOS> a <SOS> a <SOS> a <SOS> a\n",
      "<SOS> a <SOS> a <SOS> a <SOS> a <SOS> a <SOS> a <SOS> a <SOS> a <SOS> a <SOS> a\n",
      "<SOS> a <SOS> a <SOS> a <SOS> a <SOS> a <SOS> a <SOS> a <SOS> a <SOS> a <SOS> a\n",
      "<SOS> a <SOS> a <SOS> a <SOS> a <SOS> a <SOS> a <SOS> a <SOS> a <SOS> a <SOS> a\n",
      "<SOS> a <SOS> a <SOS> a <SOS> a <SOS> a <SOS> a <SOS> a <SOS> a <SOS> a <SOS> a\n",
      "<SOS> a <SOS> a <SOS> a <SOS> a <SOS> a <SOS> a <SOS> a <SOS> a <SOS> a <SOS> a\n",
      "<SOS> a <SOS> a <SOS> a <SOS> a <SOS> a <SOS> a <SOS> a <SOS> a <SOS> a <SOS> a\n",
      "<SOS> a <SOS> a <SOS> a <SOS> a <SOS> a <SOS> a <SOS> a <SOS> a <SOS> a <SOS> a\n",
      "<SOS> a <SOS> a <SOS> a <SOS> a <SOS> a <SOS> a <SOS> a <SOS> a <SOS> a <SOS> a\n",
      "<SOS> a <SOS> a <SOS> a <SOS> a <SOS> a <SOS> a <SOS> a <SOS> a <SOS> a <SOS> a\n",
      "<SOS> a <SOS> a <SOS> a <SOS> a <SOS> a <SOS> a <SOS> a <SOS> a <SOS> a <SOS> a\n",
      "<SOS> a <SOS> a <SOS> a <SOS> a <SOS> a <SOS> a <SOS> a <SOS> a <SOS> a <SOS> a\n",
      "<SOS> a <SOS> a <SOS> a <SOS> a <SOS> a <SOS> a <SOS> a <SOS> a <SOS> a <SOS> a\n",
      "<SOS> a <SOS> a <SOS> a <SOS> a <SOS> a <SOS> a <SOS> a <SOS> a <SOS> a <SOS> a\n",
      "<SOS> a <SOS> a <SOS> a <SOS> a <SOS> a <SOS> a <SOS> a <SOS> a <SOS> a <SOS> a\n",
      "<SOS> a <SOS> a <SOS> a <SOS> a <SOS> a <SOS> a <SOS> a <SOS> a <SOS> a <SOS> a\n",
      "<SOS> a <SOS> a <SOS> a <SOS> a <SOS> a <SOS> a <SOS> a <SOS> a <SOS> a <SOS> a\n",
      "<SOS> a <SOS> a <SOS> a <SOS> a <SOS> a <SOS> a <SOS> a <SOS> a <SOS> a <SOS> a\n",
      "<SOS> a <SOS> a <SOS> a <SOS> a <SOS> a <SOS> a <SOS> a <SOS> a <SOS> a <SOS> a\n",
      "<SOS> a <SOS> a <SOS> a <SOS> a <SOS> a <SOS> a <SOS> a <SOS> a <SOS> a <SOS> a\n",
      "<SOS> a <SOS> a <SOS> a <SOS> a <SOS> a <SOS> a <SOS> a <SOS> a <SOS> a <SOS> a\n",
      "<SOS> a <SOS> a <SOS> a <SOS> a <SOS> a <SOS> a <SOS> a <SOS> a <SOS> a <SOS> a\n"
     ]
    }
   ],
   "source": [
    "for i in range(32):\n",
    "    im = images[i]\n",
    "    features = encoder(im.unsqueeze(0).to(device))\n",
    "    pred = decoder.get_predict(features, 20)\n",
    "\n",
    "    print(' '.join([coco_interface_val.idx_to_string[int(word.item())] \n",
    "              for word in list(pred.squeeze(0))]))"
   ]
  },
  {
   "cell_type": "code",
   "execution_count": 109,
   "id": "d86e6d13-6d69-45e3-8ee7-b5005790a6db",
   "metadata": {},
   "outputs": [
    {
     "data": {
      "text/plain": [
       "(torch.Size([1, 16232]), torch.Size([1, 32, 16232]))"
      ]
     },
     "execution_count": 109,
     "metadata": {},
     "output_type": "execute_result"
    }
   ],
   "source": [
    "features = encoder(images)\n",
    "for i in range(1):\n",
    "    hiddens, states = decoder.lstm(features.unsqueeze(0))\n",
    "    outputs = decoder.linear(hiddens)\n",
    "    _, predicted = outputs.max(1)\n",
    "predicted.shape, outputs.shape"
   ]
  },
  {
   "cell_type": "code",
   "execution_count": 100,
   "id": "ce173217-2db5-44d0-a970-d89bca60be1d",
   "metadata": {},
   "outputs": [
    {
     "name": "stdout",
     "output_type": "stream",
     "text": [
      "im shape: torch.Size([32, 3, 400, 400])\n",
      "im.unsqueeze(0) shape: torch.Size([1, 32, 3, 400, 400])\n",
      "features shape: torch.Size([1, 512])\n",
      "hiddens shape: torch.Size([1, 1, 512])\n",
      "states size: 2\n",
      " states[0] shape: torch.Size([1, 1, 512])\n",
      " states[1] shape: torch.Size([1, 1, 512])\n",
      "hiddens.squeeze(1) shape: torch.Size([1, 512])\n",
      "outputs shape: torch.Size([1, 16232])\n",
      "predicted shape: torch.Size([1])\n",
      "tensor([[-0.2368, 18.0953, -0.1342,  2.5007,  6.9185,  1.2658, -0.1668,  2.6483,\n",
      "          0.6816,  1.4361]], device='cuda:0', grad_fn=<SliceBackward0>)\n",
      "embed(predicted).shape: torch.Size([1, 512])\n"
     ]
    }
   ],
   "source": [
    "idx, im, cap = coco_interface_val.__getitem__(410)\n",
    "im = images\n",
    "# features = encoder(im.unsqueeze(0).to(device))\n",
    "pred = decoder.get_predict(features, 20)\n",
    "print(\"im shape: {}\\nim.unsqueeze(0) shape: {}\\nfeatures shape: {}\"\n",
    "      .format(im.shape, im.unsqueeze(0).shape, features.shape))\n",
    "inputs = features.unsqueeze(0)\n",
    "hiddens, states = decoder.lstm(inputs)\n",
    "print('hiddens shape: {}\\nstates size: {}\\n states[0] shape: {}\\n states[1] shape: {}'\n",
    "      .format(hiddens.shape, len(states), states[0].shape, states[1].shape))\n",
    "print('hiddens.squeeze(1) shape: {}'.format(hiddens.squeeze(1).shape))\n",
    "outputs = decoder.linear(hiddens.squeeze(1))\n",
    "print('outputs shape: {}'.format(outputs.shape))\n",
    "_, predicted = outputs.max(1)\n",
    "print('predicted shape: {}'.format(predicted.shape))\n",
    "print(outputs[:, :10])\n",
    "print('embed(predicted).shape: {}'.format(decoder.embed(predicted).shape))\n",
    "# decoder.embed(predicted).shape"
   ]
  },
  {
   "cell_type": "code",
   "execution_count": 59,
   "id": "29eb18e1-c9f6-48d9-81be-c677159f83a9",
   "metadata": {},
   "outputs": [
    {
     "data": {
      "text/plain": [
       "'<SOS> a <SOS> a <SOS> a <SOS> a <SOS> a <SOS> a <SOS> a <SOS> a <SOS> a <SOS> a'"
      ]
     },
     "execution_count": 59,
     "metadata": {},
     "output_type": "execute_result"
    }
   ],
   "source": [
    "idx, im, cap = coco_interface_val.__getitem__(410)\n",
    "features = encoder(im.unsqueeze(0).to(device))\n",
    "pred = decoder.get_predict(features, 20)\n",
    "\n",
    "pred.shape\n",
    "' '.join([coco_interface_val.idx_to_string[int(word.item())] \n",
    "          for word in list(pred.squeeze(0))])"
   ]
  },
  {
   "cell_type": "code",
   "execution_count": 57,
   "id": "9129c2b9-714b-4161-a728-384f687c2bc4",
   "metadata": {},
   "outputs": [
    {
     "data": {
      "text/plain": [
       "torch.Size([20])"
      ]
     },
     "execution_count": 57,
     "metadata": {},
     "output_type": "execute_result"
    }
   ],
   "source": [
    "pred.squeeze(0).shape"
   ]
  },
  {
   "cell_type": "code",
   "execution_count": 51,
   "id": "3f76c2c0-f470-4803-ad38-a6f9bb3c48bf",
   "metadata": {},
   "outputs": [
    {
     "data": {
      "image/png": "[encoded data removed]",
      "text/plain": [
       "<Figure size 432x288 with 1 Axes>"
      ]
     },
     "metadata": {
      "needs_background": "light"
     },
     "output_type": "display_data"
    },
    {
     "data": {
      "text/plain": [
       "'<SOS> a boy holding a baseball bat is up to bat <EOS> <PAD> <PAD> <PAD> <PAD> <PAD> <PAD> <PAD> <PAD>'"
      ]
     },
     "execution_count": 51,
     "metadata": {},
     "output_type": "execute_result"
    }
   ],
   "source": [
    "coco_interface_val.display_img_with_captions(400)\n",
    "\n",
    "' '.join([coco_interface_val.idx_to_string[word.item()] \n",
    "          for word in list(cap)])"
   ]
  },
  {
   "cell_type": "code",
   "execution_count": 15,
   "id": "67994682",
   "metadata": {},
   "outputs": [],
   "source": [
    "def train(encoder, decoder, criterion, optimizer, train_loader, val_loader, total_epoch, checkpoint_path):\n",
    "    \n",
    "    encoder.to(device)\n",
    "    decoder.to(device)\n",
    "    \n",
    "    training_loss = []\n",
    "    validation_loss = []\n",
    "    \n",
    "    start_time = time.time()\n",
    "    for epoch in range(total_epoch):\n",
    "        train_epoch_loss = 0\n",
    "        val_epoch_loss = 0\n",
    "        \n",
    "        \n",
    "        # Training phase\n",
    "        encoder.train()\n",
    "        decoder.train()\n",
    "        \n",
    "        for i, batch in enumerate(train_loader):\n",
    "            idx, images, captions = batch\n",
    "            images, captions = images.to(device), captions.to(device)\n",
    "            \n",
    "            # Zero the gradients.\n",
    "            encoder.zero_grad()\n",
    "            decoder.zero_grad()\n",
    "            \n",
    "            features = encoder(images)\n",
    "            outputs = decoder(features, captions)\n",
    "            \n",
    "            loss = criterion(outputs.view(-1, vocab_size), captions.contiguous().view(-1))\n",
    "            \n",
    "            loss.backward()\n",
    "            optimizer.step()\n",
    "        \n",
    "            train_epoch_loss += loss.item()\n",
    "            if i % 100 == 0:\n",
    "                print('Training: ', i, ' ', loss.item())\n",
    "                \n",
    "        train_epoch_loss /= len(train_loader)\n",
    "        training_loss.append(train_epoch_loss)\n",
    "        \n",
    "        # validation phase\n",
    "        encoder.eval()\n",
    "        decoder.eval()\n",
    "        \n",
    "        for i, batch in enumerate(val_loader):\n",
    "            idx, images, captions = batch\n",
    "            images, captions = images.to(device), captions.to(device)\n",
    "            features = encoder(images)\n",
    "            outputs = decoder(features, captions)\n",
    "            loss = criterion(outputs.view(-1, vocab_size), captions.contiguous().view(-1))\n",
    "            val_epoch_loss += loss.item()\n",
    "            if i % 100 == 0:\n",
    "                print('Validation: ', i, ' ', loss.item())\n",
    "            \n",
    "        val_epoch_loss /= len(val_loader)\n",
    "        validation_loss.append(val_epoch_loss)\n",
    "    \n",
    "        epoch_time = (time.time() - start_time) /60**1\n",
    "\n",
    "        save_model(epoch, encoder, decoder, training_loss, validation_loss, checkpoint_path)\n",
    "\n",
    "        print(\"Epoch: {:d}. Training Loss = {:.4f}, Training Perplexity: {:.4f}. Validation Loss: {:.4f}, Validation Perplexity: {:.4f}. Time: {:f}\" \\\n",
    "          .format(epoch, train_epoch_loss, np.exp(train_epoch_loss), val_epoch_loss, np.exp(val_epoch_loss), epoch_time))\n",
    "    \n",
    "    return training_loss, validation_loss\n",
    "    "
   ]
  },
  {
   "cell_type": "code",
   "execution_count": null,
   "id": "62a0559f",
   "metadata": {},
   "outputs": [
    {
     "name": "stdout",
     "output_type": "stream",
     "text": [
      "Training:  0   9.515953063964844\n",
      "Training:  100   9.210984230041504\n",
      "Training:  200   8.009066581726074\n",
      "Training:  300   6.2172160148620605\n",
      "Training:  400   5.627791404724121\n",
      "Training:  500   5.186134338378906\n",
      "Training:  600   4.789130210876465\n",
      "Training:  700   4.47951078414917\n",
      "Training:  800   4.59299898147583\n",
      "Training:  900   4.52008581161499\n",
      "Training:  1000   4.329635143280029\n",
      "Training:  1100   4.214908599853516\n",
      "Training:  1200   4.064572334289551\n",
      "Training:  1300   4.279685020446777\n",
      "Training:  1400   4.430614948272705\n",
      "Validation:  0   4.184030055999756\n",
      "Validation:  100   4.056313991546631\n",
      "Validation:  200   4.125290870666504\n",
      "Epoch: 0. Training Loss = 5.4922, Training Perplexity: 242.7841. Validation Loss: 4.2283, Validation Perplexity: 68.6030. Time: 19.891358\n",
      "Training:  0   4.340602874755859\n",
      "Training:  100   4.150339126586914\n",
      "Training:  200   4.1194915771484375\n",
      "Training:  300   4.195537567138672\n",
      "Training:  400   4.215137004852295\n",
      "Training:  500   4.233678817749023\n",
      "Training:  600   3.9670445919036865\n",
      "Training:  700   3.9944844245910645\n",
      "Training:  800   4.057607173919678\n",
      "Training:  900   3.902231454849243\n",
      "Training:  1000   4.199789047241211\n",
      "Training:  1100   3.798816442489624\n",
      "Training:  1200   4.055152893066406\n",
      "Training:  1300   4.0771050453186035\n",
      "Training:  1400   3.738969087600708\n",
      "Validation:  0   3.808748722076416\n",
      "Validation:  100   3.6798224449157715\n",
      "Validation:  200   3.7597479820251465\n",
      "Epoch: 1. Training Loss = 4.0486, Training Perplexity: 57.3164. Validation Loss: 3.8805, Validation Perplexity: 48.4465. Time: 39.861753\n",
      "Training:  0   3.6249170303344727\n",
      "Training:  100   4.083412170410156\n",
      "Training:  200   3.816410779953003\n",
      "Training:  300   3.575230121612549\n",
      "Training:  400   3.6545469760894775\n",
      "Training:  500   3.504828929901123\n",
      "Training:  600   3.782625198364258\n",
      "Training:  700   3.947258710861206\n",
      "Training:  800   3.5093300342559814\n",
      "Training:  900   3.7277274131774902\n",
      "Training:  1000   3.860720634460449\n",
      "Training:  1100   3.7024245262145996\n",
      "Training:  1200   3.8282036781311035\n",
      "Training:  1300   3.7178497314453125\n",
      "Training:  1400   3.694422721862793\n",
      "Validation:  0   3.5606040954589844\n",
      "Validation:  100   3.4138944149017334\n",
      "Validation:  200   3.509812116622925\n",
      "Epoch: 2. Training Loss = 3.7596, Training Perplexity: 42.9315. Validation Loss: 3.6445, Validation Perplexity: 38.2651. Time: 59.812832\n",
      "Training:  0   3.6686666011810303\n",
      "Training:  100   3.728597402572632\n",
      "Training:  200   3.5417871475219727\n",
      "Training:  300   3.4234201908111572\n",
      "Training:  400   3.4313347339630127\n",
      "Training:  500   3.1673684120178223\n",
      "Training:  600   3.4916634559631348\n",
      "Training:  700   3.4469285011291504\n",
      "Training:  800   3.296787738800049\n",
      "Training:  900   3.4082930088043213\n",
      "Training:  1000   3.920438766479492\n",
      "Training:  1100   3.6550467014312744\n",
      "Training:  1200   3.2024340629577637\n",
      "Training:  1300   3.4600753784179688\n",
      "Training:  1400   3.3787529468536377\n",
      "Validation:  0   3.3963825702667236\n",
      "Validation:  100   3.23158860206604\n",
      "Validation:  200   3.3466243743896484\n",
      "Epoch: 3. Training Loss = 3.5616, Training Perplexity: 35.2202. Validation Loss: 3.4802, Validation Perplexity: 32.4668. Time: 79.655049\n",
      "Training:  0   3.562284469604492\n",
      "Training:  100   3.463280439376831\n",
      "Training:  200   3.560683488845825\n",
      "Training:  300   3.1694793701171875\n",
      "Training:  400   3.446065902709961\n",
      "Training:  500   3.67322039604187\n",
      "Training:  600   3.223501205444336\n",
      "Training:  700   3.380782127380371\n",
      "Training:  800   3.323033094406128\n",
      "Training:  900   3.2525110244750977\n",
      "Training:  1000   3.451152801513672\n",
      "Training:  1100   3.542400360107422\n",
      "Training:  1200   3.590986967086792\n",
      "Training:  1300   3.444225311279297\n",
      "Training:  1400   3.2147698402404785\n",
      "Validation:  0   3.2764058113098145\n",
      "Validation:  100   3.1042380332946777\n",
      "Validation:  200   3.2260682582855225\n",
      "Epoch: 4. Training Loss = 3.4185, Training Perplexity: 30.5243. Validation Loss: 3.3595, Validation Perplexity: 28.7752. Time: 99.516010\n",
      "Training:  0   3.5734245777130127\n",
      "Training:  100   2.9618566036224365\n",
      "Training:  200   3.2190635204315186\n",
      "Training:  300   3.211134433746338\n",
      "Training:  400   3.4272024631500244\n",
      "Training:  500   3.387782335281372\n",
      "Training:  600   3.55112624168396\n",
      "Training:  700   3.6092967987060547\n",
      "Training:  800   3.0479583740234375\n",
      "Training:  900   3.3998594284057617\n",
      "Training:  1000   3.217118263244629\n",
      "Training:  1100   3.4625494480133057\n",
      "Training:  1200   3.0982472896575928\n",
      "Training:  1300   3.4707417488098145\n",
      "Training:  1400   3.4284050464630127\n",
      "Validation:  0   3.187938690185547\n",
      "Validation:  100   3.007162570953369\n",
      "Validation:  200   3.137634038925171\n",
      "Epoch: 5. Training Loss = 3.3107, Training Perplexity: 27.4055. Validation Loss: 3.2661, Validation Perplexity: 26.2099. Time: 119.381997\n",
      "Training:  0   2.9860379695892334\n",
      "Training:  100   3.6229820251464844\n",
      "Training:  200   3.1692800521850586\n",
      "Training:  300   3.5129778385162354\n",
      "Training:  400   3.391225814819336\n",
      "Training:  500   2.940432548522949\n",
      "Training:  600   3.3392765522003174\n",
      "Training:  700   2.859853744506836\n",
      "Training:  800   3.337738275527954\n",
      "Training:  900   3.0478641986846924\n",
      "Training:  1000   2.855185031890869\n",
      "Training:  1100   3.0398800373077393\n",
      "Training:  1200   3.4518625736236572\n",
      "Training:  1300   2.9528257846832275\n",
      "Training:  1400   3.1511077880859375\n",
      "Validation:  0   3.1143438816070557\n",
      "Validation:  100   2.9269754886627197\n",
      "Validation:  200   3.067152976989746\n",
      "Epoch: 6. Training Loss = 3.2249, Training Perplexity: 25.1509. Validation Loss: 3.1896, Validation Perplexity: 24.2795. Time: 139.250589\n",
      "Training:  0   3.166330337524414\n",
      "Training:  100   3.3203272819519043\n",
      "Training:  200   3.402881383895874\n",
      "Training:  300   2.976362943649292\n",
      "Training:  400   3.606471061706543\n",
      "Training:  500   3.513500213623047\n",
      "Training:  600   3.123234748840332\n",
      "Training:  700   3.1571664810180664\n",
      "Training:  800   2.7893688678741455\n",
      "Training:  900   3.2186849117279053\n",
      "Training:  1000   3.424802780151367\n",
      "Training:  1100   3.1460351943969727\n",
      "Training:  1200   3.104172706604004\n",
      "Training:  1300   3.05460524559021\n",
      "Training:  1400   3.2455196380615234\n",
      "Validation:  0   3.0547842979431152\n",
      "Validation:  100   2.8662567138671875\n",
      "Validation:  200   3.000877857208252\n",
      "Epoch: 7. Training Loss = 3.1535, Training Perplexity: 23.4188. Validation Loss: 3.1261, Validation Perplexity: 22.7843. Time: 159.295022\n",
      "Training:  0   3.2520437240600586\n",
      "Training:  100   3.1970489025115967\n",
      "Training:  200   2.8954825401306152\n",
      "Training:  300   3.1355113983154297\n",
      "Training:  400   2.9472239017486572\n",
      "Training:  500   2.874411106109619\n",
      "Training:  600   3.0072476863861084\n",
      "Training:  700   2.9025232791900635\n",
      "Training:  800   3.013913154602051\n",
      "Training:  900   2.9119279384613037\n",
      "Training:  1000   3.0157723426818848\n",
      "Training:  1100   2.811361312866211\n",
      "Training:  1200   3.3645808696746826\n",
      "Training:  1300   2.858398675918579\n",
      "Training:  1400   2.9387223720550537\n",
      "Validation:  0   2.9996871948242188\n",
      "Validation:  100   2.812473773956299\n",
      "Validation:  200   2.9435389041900635\n",
      "Epoch: 8. Training Loss = 3.0928, Training Perplexity: 22.0378. Validation Loss: 3.0719, Validation Perplexity: 21.5828. Time: 179.261578\n",
      "Training:  0   2.9888107776641846\n",
      "Training:  100   3.298567771911621\n",
      "Training:  200   3.2720460891723633\n",
      "Training:  300   3.230835199356079\n",
      "Training:  400   3.2878682613372803\n",
      "Training:  500   3.0943214893341064\n",
      "Training:  600   3.15679931640625\n",
      "Training:  700   3.108639717102051\n",
      "Training:  800   2.7068445682525635\n",
      "Training:  900   3.1263866424560547\n",
      "Training:  1000   3.2232046127319336\n",
      "Training:  1100   3.2828898429870605\n",
      "Training:  1200   2.961860179901123\n",
      "Training:  1300   2.7491796016693115\n",
      "Training:  1400   3.1558709144592285\n",
      "Validation:  0   2.956462860107422\n",
      "Validation:  100   2.7635657787323\n",
      "Validation:  200   2.8924851417541504\n",
      "Epoch: 9. Training Loss = 3.0401, Training Perplexity: 20.9082. Validation Loss: 3.0232, Validation Perplexity: 20.5561. Time: 199.229584\n",
      "Training:  0   2.8839428424835205\n",
      "Training:  100   3.1271190643310547\n",
      "Training:  200   2.845057249069214\n",
      "Training:  300   3.1267242431640625\n",
      "Training:  400   3.25873064994812\n",
      "Training:  500   3.2737693786621094\n",
      "Training:  600   2.7524778842926025\n",
      "Training:  700   2.9514355659484863\n",
      "Training:  800   2.765944242477417\n",
      "Training:  900   2.9648659229278564\n",
      "Training:  1000   3.0554087162017822\n",
      "Training:  1100   2.88053297996521\n",
      "Training:  1200   3.1466991901397705\n",
      "Training:  1300   2.9855995178222656\n",
      "Training:  1400   3.140819549560547\n",
      "Validation:  0   2.909604072570801\n",
      "Validation:  100   2.722803831100464\n",
      "Validation:  200   2.8413524627685547\n",
      "Epoch: 10. Training Loss = 2.9922, Training Perplexity: 19.9302. Validation Loss: 2.9785, Validation Perplexity: 19.6588. Time: 219.088083\n",
      "Training:  0   2.7499001026153564\n",
      "Training:  100   3.2359838485717773\n",
      "Training:  200   3.24588942527771\n",
      "Training:  300   2.7264487743377686\n",
      "Training:  400   2.931316375732422\n",
      "Training:  500   3.1320834159851074\n",
      "Training:  600   2.662259340286255\n",
      "Training:  700   2.6108157634735107\n",
      "Training:  800   3.398595094680786\n",
      "Training:  900   2.7432870864868164\n",
      "Training:  1000   2.6849172115325928\n",
      "Training:  1100   2.9667248725891113\n",
      "Training:  1200   3.0096585750579834\n",
      "Training:  1300   2.806389570236206\n",
      "Training:  1400   3.028393030166626\n",
      "Validation:  0   2.866187810897827\n",
      "Validation:  100   2.678391218185425\n",
      "Validation:  200   2.788762092590332\n",
      "Epoch: 11. Training Loss = 2.9474, Training Perplexity: 19.0556. Validation Loss: 2.9344, Validation Perplexity: 18.8111. Time: 239.040852\n",
      "Training:  0   2.7024149894714355\n",
      "Training:  100   2.898805856704712\n",
      "Training:  200   3.01908278465271\n",
      "Training:  300   3.0575308799743652\n",
      "Training:  400   2.3973491191864014\n",
      "Training:  500   2.7599408626556396\n",
      "Training:  600   3.146374464035034\n",
      "Training:  700   2.9561307430267334\n",
      "Training:  800   2.9139046669006348\n",
      "Training:  900   2.7256250381469727\n",
      "Training:  1000   3.1509900093078613\n",
      "Training:  1100   2.7345070838928223\n",
      "Training:  1200   2.7045059204101562\n",
      "Training:  1300   3.1370582580566406\n",
      "Training:  1400   2.83801531791687\n",
      "Validation:  0   2.8270251750946045\n",
      "Validation:  100   2.6480600833892822\n",
      "Validation:  200   2.7444021701812744\n",
      "Epoch: 12. Training Loss = 2.9060, Training Perplexity: 18.2829. Validation Loss: 2.8958, Validation Perplexity: 18.0978. Time: 258.907256\n",
      "Training:  0   2.868256092071533\n",
      "Training:  100   2.7210853099823\n",
      "Training:  200   2.8168537616729736\n",
      "Training:  300   2.6879234313964844\n",
      "Training:  400   2.9039969444274902\n",
      "Training:  500   3.1963534355163574\n",
      "Training:  600   2.911449909210205\n",
      "Training:  700   2.7348055839538574\n",
      "Training:  800   2.7416298389434814\n",
      "Training:  900   3.0333518981933594\n",
      "Training:  1000   3.154414653778076\n",
      "Training:  1100   2.6178221702575684\n",
      "Training:  1200   2.7519707679748535\n",
      "Training:  1300   2.8530311584472656\n",
      "Training:  1400   2.8787333965301514\n",
      "Validation:  0   2.796308994293213\n",
      "Validation:  100   2.6171939373016357\n",
      "Validation:  200   2.7073652744293213\n",
      "Epoch: 13. Training Loss = 2.8695, Training Perplexity: 17.6285. Validation Loss: 2.8620, Validation Perplexity: 17.4969. Time: 278.738832\n",
      "Training:  0   2.81466007232666\n",
      "Training:  100   2.429701328277588\n",
      "Training:  200   2.8513832092285156\n",
      "Training:  300   2.726165771484375\n",
      "Training:  400   2.6590096950531006\n",
      "Training:  500   2.582237482070923\n",
      "Training:  600   2.5001866817474365\n",
      "Training:  700   2.9293603897094727\n",
      "Training:  800   3.0857276916503906\n",
      "Training:  900   2.7234129905700684\n",
      "Training:  1000   2.70509934425354\n",
      "Training:  1100   2.8033695220947266\n",
      "Training:  1200   3.061709403991699\n",
      "Training:  1300   2.9081125259399414\n",
      "Training:  1400   2.8145816326141357\n",
      "Validation:  0   2.7670319080352783\n",
      "Validation:  100   2.591783046722412\n",
      "Validation:  200   2.680727005004883\n",
      "Epoch: 14. Training Loss = 2.8371, Training Perplexity: 17.0660. Validation Loss: 2.8342, Validation Perplexity: 17.0175. Time: 298.714920\n",
      "Training:  0   2.773972511291504\n",
      "Training:  100   2.9256834983825684\n",
      "Training:  200   2.902914524078369\n",
      "Training:  300   2.768174171447754\n",
      "Training:  400   2.7828474044799805\n",
      "Training:  500   2.630626916885376\n",
      "Training:  600   2.9823899269104004\n"
     ]
    }
   ],
   "source": [
    "train_params = {\n",
    "    'encoder': encoder,\n",
    "    'decoder': decoder,\n",
    "    'criterion': criterion,\n",
    "    'optimizer': optimizer,\n",
    "    'train_loader': train_loader,\n",
    "    'val_loader': val_loader,\n",
    "    'total_epoch': 100,\n",
    "    'checkpoint_path': CHECKPOINT\n",
    "}\n",
    "\n",
    "training_loss, validation_loss = train(**train_params) "
   ]
  },
  {
   "cell_type": "code",
   "execution_count": null,
   "id": "9c953de0-bd13-47b9-b7b5-dead76bbcae7",
   "metadata": {},
   "outputs": [],
   "source": []
  },
  {
   "cell_type": "code",
   "execution_count": null,
   "id": "711dec22-ef01-41d2-bfcc-a1383e803bad",
   "metadata": {},
   "outputs": [],
   "source": []
  }
 ],
 "metadata": {
  "kernelspec": {
   "display_name": "Python 3 (ipykernel)",
   "language": "python",
   "name": "python3"
  },
  "language_info": {
   "codemirror_mode": {
    "name": "ipython",
    "version": 3
   },
   "file_extension": ".py",
   "mimetype": "text/x-python",
   "name": "python",
   "nbconvert_exporter": "python",
   "pygments_lexer": "ipython3",
   "version": "3.8.12"
  }
 },
 "nbformat": 4,
 "nbformat_minor": 5
}
